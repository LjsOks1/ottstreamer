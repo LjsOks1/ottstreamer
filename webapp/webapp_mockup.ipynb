{
 "cells": [
  {
   "cell_type": "code",
   "execution_count": 10,
   "metadata": {},
   "outputs": [],
   "source": [
    "import datetime\n",
    "from config import Config\n",
    "import os\n"
   ]
  },
  {
   "cell_type": "code",
   "execution_count": 29,
   "metadata": {},
   "outputs": [],
   "source": [
    "base = datetime.datetime.today()\n",
    "date_list = [(base + datetime.timedelta(days=x-1)).strftime(\"%Y-%m-%d\") for x in range(6)]\n",
    "overview={}\n",
    "for c in Config.LOCALIZED_FEEDS:\n",
    "    log_list=[]\n",
    "    for d in date_list:\n",
    "        filename=os.path.join(Config.STREAMS_ROOT,c[\"dir\"],\"commercials\",\"playlists\",d,d+\"_\"+c[\"log\"]+\".xls\")\n",
    "        if os.path.isfile(filename):\n",
    "            log_list.append(filename)\n",
    "        else:\n",
    "            log_list.append(\"\")\n",
    "    overview[c[\"name\"]]=log_list                              \n"
   ]
  },
  {
   "cell_type": "code",
   "execution_count": 30,
   "metadata": {},
   "outputs": [
    {
     "data": {
      "text/plain": [
       "{'Nick Bulgaria': ['', '', '', '', '', ''],\n",
       " 'Nick Czech': ['', '', '', '', '', ''],\n",
       " 'Nick Hungary': ['', '', '', '', '', ''],\n",
       " 'Nick Romania': ['', '', '', '', '', ''],\n",
       " 'NickJR Bulgaria': ['', '', '', '', '', ''],\n",
       " 'NickJR Czech': ['', '', '', '', '', ''],\n",
       " 'NickJR Hungary': ['', '', '', '', '', ''],\n",
       " 'NickJR Romania': ['/var/www/html/streams/nickjr_rom/commercials/playlists/2019-09-20/2019-09-20_nickjrro.xls',\n",
       "  '',\n",
       "  '',\n",
       "  '',\n",
       "  '',\n",
       "  ''],\n",
       " 'Nicktoons Bulgaria': ['/var/www/html/streams/nicktoons_bul/commercials/playlists/2019-09-20/2019-09-20_Nicktoons_Bulgaria.xls',\n",
       "  '',\n",
       "  '',\n",
       "  '',\n",
       "  '',\n",
       "  ''],\n",
       " 'Nicktoons Czech': ['', '', '', '', '', ''],\n",
       " 'Nicktoons Hungary': ['', '', '', '', '', ''],\n",
       " 'Nicktoons Romania': ['/var/www/html/streams/nicktoons_rom/commercials/playlists/2019-09-20/2019-09-20_nicktoonsro.xls',\n",
       "  '',\n",
       "  '',\n",
       "  '',\n",
       "  '',\n",
       "  '']}"
      ]
     },
     "execution_count": 30,
     "metadata": {},
     "output_type": "execute_result"
    }
   ],
   "source": [
    "overview\n"
   ]
  },
  {
   "cell_type": "code",
   "execution_count": 16,
   "metadata": {},
   "outputs": [
    {
     "data": {
      "text/plain": [
       "['2019-09-20', '2019-09-21', '2019-09-22', '2019-09-23', '2019-09-24']"
      ]
     },
     "execution_count": 16,
     "metadata": {},
     "output_type": "execute_result"
    }
   ],
   "source": [
    "date_list"
   ]
  },
  {
   "cell_type": "code",
   "execution_count": 1,
   "metadata": {},
   "outputs": [],
   "source": [
    "import psutil"
   ]
  },
  {
   "cell_type": "code",
   "execution_count": 3,
   "metadata": {},
   "outputs": [
    {
     "data": {
      "text/plain": [
       "[sconn(fd=-1, family=<AddressFamily.AF_INET6: 10>, type=<SocketKind.SOCK_STREAM: 1>, laddr=addr(ip='::ffff:129.228.120.86', port=80), raddr=addr(ip='::ffff:129.228.120.86', port=39080), status='TIME_WAIT', pid=None),\n",
       " sconn(fd=26, family=<AddressFamily.AF_INET: 2>, type=<SocketKind.SOCK_STREAM: 1>, laddr=addr(ip='127.0.0.1', port=54281), raddr=(), status='LISTEN', pid=6131),\n",
       " sconn(fd=-1, family=<AddressFamily.AF_INET: 2>, type=<SocketKind.SOCK_STREAM: 1>, laddr=addr(ip='129.228.120.86', port=43534), raddr=addr(ip='129.228.120.198', port=445), status='ESTABLISHED', pid=None),\n",
       " sconn(fd=3, family=<AddressFamily.AF_INET6: 10>, type=<SocketKind.SOCK_STREAM: 1>, laddr=addr(ip='::1', port=51402), raddr=addr(ip='::1', port=6379), status='ESTABLISHED', pid=6742),\n",
       " sconn(fd=13, family=<AddressFamily.AF_INET6: 10>, type=<SocketKind.SOCK_DGRAM: 2>, laddr=addr(ip='::', port=59788), raddr=(), status='NONE', pid=19488),\n",
       " sconn(fd=73, family=<AddressFamily.AF_INET: 2>, type=<SocketKind.SOCK_STREAM: 1>, laddr=addr(ip='127.0.0.1', port=60001), raddr=addr(ip='127.0.0.1', port=51650), status='ESTABLISHED', pid=6131),\n",
       " sconn(fd=9, family=<AddressFamily.AF_INET6: 10>, type=<SocketKind.SOCK_STREAM: 1>, laddr=addr(ip='::1', port=42536), raddr=addr(ip='::1', port=6379), status='ESTABLISHED', pid=9991),\n",
       " sconn(fd=16, family=<AddressFamily.AF_INET: 2>, type=<SocketKind.SOCK_STREAM: 1>, laddr=addr(ip='127.0.0.1', port=37325), raddr=(), status='LISTEN', pid=6653),\n",
       " sconn(fd=61, family=<AddressFamily.AF_INET: 2>, type=<SocketKind.SOCK_STREAM: 1>, laddr=addr(ip='129.228.120.86', port=8888), raddr=addr(ip='172.23.42.122', port=55327), status='ESTABLISHED', pid=5638),\n",
       " sconn(fd=-1, family=<AddressFamily.AF_INET6: 10>, type=<SocketKind.SOCK_STREAM: 1>, laddr=addr(ip='::ffff:129.228.120.86', port=3306), raddr=addr(ip='::ffff:172.17.0.4', port=50826), status='ESTABLISHED', pid=None),\n",
       " sconn(fd=-1, family=<AddressFamily.AF_INET6: 10>, type=<SocketKind.SOCK_STREAM: 1>, laddr=addr(ip='::1', port=6379), raddr=addr(ip='::1', port=51402), status='ESTABLISHED', pid=None),\n",
       " sconn(fd=-1, family=<AddressFamily.AF_INET6: 10>, type=<SocketKind.SOCK_STREAM: 1>, laddr=addr(ip='::', port=3306), raddr=(), status='LISTEN', pid=None),\n",
       " sconn(fd=68, family=<AddressFamily.AF_INET: 2>, type=<SocketKind.SOCK_STREAM: 1>, laddr=addr(ip='127.0.0.1', port=56679), raddr=addr(ip='127.0.0.1', port=56660), status='ESTABLISHED', pid=6131),\n",
       " sconn(fd=-1, family=<AddressFamily.AF_INET: 2>, type=<SocketKind.SOCK_STREAM: 1>, laddr=addr(ip='172.17.0.1', port=43396), raddr=addr(ip='172.17.0.2', port=3306), status='CLOSE_WAIT', pid=None),\n",
       " sconn(fd=74, family=<AddressFamily.AF_INET: 2>, type=<SocketKind.SOCK_STREAM: 1>, laddr=addr(ip='127.0.0.1', port=43843), raddr=addr(ip='127.0.0.1', port=40936), status='ESTABLISHED', pid=6131),\n",
       " sconn(fd=13, family=<AddressFamily.AF_INET6: 10>, type=<SocketKind.SOCK_DGRAM: 2>, laddr=addr(ip='::', port=56884), raddr=(), status='NONE', pid=19501),\n",
       " sconn(fd=26, family=<AddressFamily.AF_INET: 2>, type=<SocketKind.SOCK_STREAM: 1>, laddr=addr(ip='127.0.0.1', port=41877), raddr=(), status='LISTEN', pid=19766),\n",
       " sconn(fd=80, family=<AddressFamily.AF_INET: 2>, type=<SocketKind.SOCK_STREAM: 1>, laddr=addr(ip='127.0.0.1', port=36903), raddr=addr(ip='127.0.0.1', port=35270), status='ESTABLISHED', pid=19766),\n",
       " sconn(fd=12, family=<AddressFamily.AF_INET: 2>, type=<SocketKind.SOCK_DGRAM: 2>, laddr=addr(ip='0.0.0.0', port=57219), raddr=(), status='NONE', pid=19515),\n",
       " sconn(fd=-1, family=<AddressFamily.AF_INET6: 10>, type=<SocketKind.SOCK_DGRAM: 2>, laddr=addr(ip='fe80::ae22:bff:fec7:4974', port=123), raddr=(), status='NONE', pid=None),\n",
       " sconn(fd=-1, family=<AddressFamily.AF_INET: 2>, type=<SocketKind.SOCK_STREAM: 1>, laddr=addr(ip='172.17.0.1', port=43398), raddr=addr(ip='172.17.0.2', port=3306), status='CLOSE_WAIT', pid=None),\n",
       " sconn(fd=81, family=<AddressFamily.AF_INET: 2>, type=<SocketKind.SOCK_STREAM: 1>, laddr=addr(ip='127.0.0.1', port=49759), raddr=addr(ip='127.0.0.1', port=32982), status='ESTABLISHED', pid=6653),\n",
       " sconn(fd=48, family=<AddressFamily.AF_INET: 2>, type=<SocketKind.SOCK_STREAM: 1>, laddr=addr(ip='127.0.0.1', port=56660), raddr=addr(ip='127.0.0.1', port=56679), status='ESTABLISHED', pid=5638),\n",
       " sconn(fd=9, family=<AddressFamily.AF_INET: 2>, type=<SocketKind.SOCK_DGRAM: 2>, laddr=addr(ip='0.0.0.0', port=1234), raddr=(), status='NONE', pid=19461),\n",
       " sconn(fd=-1, family=<AddressFamily.AF_INET6: 10>, type=<SocketKind.SOCK_DGRAM: 2>, laddr=addr(ip='fe80::d4eb:a4ff:fe49:786f', port=123), raddr=(), status='NONE', pid=None),\n",
       " sconn(fd=-1, family=<AddressFamily.AF_INET6: 10>, type=<SocketKind.SOCK_DGRAM: 2>, laddr=addr(ip='::1', port=123), raddr=(), status='NONE', pid=None),\n",
       " sconn(fd=45, family=<AddressFamily.AF_INET: 2>, type=<SocketKind.SOCK_STREAM: 1>, laddr=addr(ip='127.0.0.1', port=53407), raddr=(), status='LISTEN', pid=6653),\n",
       " sconn(fd=45, family=<AddressFamily.AF_INET: 2>, type=<SocketKind.SOCK_STREAM: 1>, laddr=addr(ip='129.228.120.86', port=8888), raddr=addr(ip='172.23.42.122', port=61249), status='ESTABLISHED', pid=5638),\n",
       " sconn(fd=-1, family=<AddressFamily.AF_INET: 2>, type=<SocketKind.SOCK_STREAM: 1>, laddr=addr(ip='129.228.120.86', port=22), raddr=addr(ip='129.228.67.169', port=59778), status='ESTABLISHED', pid=None),\n",
       " sconn(fd=-1, family=<AddressFamily.AF_INET: 2>, type=<SocketKind.SOCK_STREAM: 1>, laddr=addr(ip='172.17.0.1', port=43388), raddr=addr(ip='172.17.0.2', port=3306), status='CLOSE_WAIT', pid=None),\n",
       " sconn(fd=-1, family=<AddressFamily.AF_INET6: 10>, type=<SocketKind.SOCK_STREAM: 1>, laddr=addr(ip='::ffff:129.228.120.86', port=80), raddr=addr(ip='::ffff:129.228.120.86', port=39114), status='ESTABLISHED', pid=None),\n",
       " sconn(fd=57, family=<AddressFamily.AF_INET: 2>, type=<SocketKind.SOCK_STREAM: 1>, laddr=addr(ip='127.0.0.1', port=39029), raddr=(), status='LISTEN', pid=6653),\n",
       " sconn(fd=-1, family=<AddressFamily.AF_INET6: 10>, type=<SocketKind.SOCK_STREAM: 1>, laddr=addr(ip='::ffff:129.228.120.86', port=80), raddr=addr(ip='::ffff:129.228.120.86', port=39108), status='TIME_WAIT', pid=None),\n",
       " sconn(fd=17, family=<AddressFamily.AF_INET: 2>, type=<SocketKind.SOCK_STREAM: 1>, laddr=addr(ip='129.228.120.86', port=39112), raddr=addr(ip='129.228.120.86', port=80), status='CLOSE_WAIT', pid=19488),\n",
       " sconn(fd=34, family=<AddressFamily.AF_INET: 2>, type=<SocketKind.SOCK_STREAM: 1>, laddr=addr(ip='127.0.0.1', port=57629), raddr=(), status='LISTEN', pid=6653),\n",
       " sconn(fd=-1, family=<AddressFamily.AF_INET6: 10>, type=<SocketKind.SOCK_STREAM: 1>, laddr=addr(ip='::1', port=3350), raddr=(), status='LISTEN', pid=None),\n",
       " sconn(fd=7, family=<AddressFamily.AF_INET6: 10>, type=<SocketKind.SOCK_STREAM: 1>, laddr=addr(ip='::1', port=42522), raddr=addr(ip='::1', port=6379), status='ESTABLISHED', pid=9991),\n",
       " sconn(fd=-1, family=<AddressFamily.AF_INET6: 10>, type=<SocketKind.SOCK_STREAM: 1>, laddr=addr(ip='::1', port=6379), raddr=addr(ip='::1', port=51220), status='ESTABLISHED', pid=None),\n",
       " sconn(fd=-1, family=<AddressFamily.AF_INET: 2>, type=<SocketKind.SOCK_STREAM: 1>, laddr=addr(ip='129.228.120.86', port=36108), raddr=addr(ip='129.228.120.65', port=445), status='ESTABLISHED', pid=None),\n",
       " sconn(fd=-1, family=<AddressFamily.AF_INET6: 10>, type=<SocketKind.SOCK_STREAM: 1>, laddr=addr(ip='::ffff:129.228.120.86', port=3306), raddr=addr(ip='::ffff:172.17.0.4', port=50812), status='FIN_WAIT2', pid=None),\n",
       " sconn(fd=-1, family=<AddressFamily.AF_INET: 2>, type=<SocketKind.SOCK_STREAM: 1>, laddr=addr(ip='172.17.0.1', port=43390), raddr=addr(ip='172.17.0.2', port=3306), status='CLOSE_WAIT', pid=None),\n",
       " sconn(fd=-1, family=<AddressFamily.AF_INET6: 10>, type=<SocketKind.SOCK_STREAM: 1>, laddr=addr(ip='::', port=443), raddr=(), status='LISTEN', pid=None),\n",
       " sconn(fd=-1, family=<AddressFamily.AF_INET6: 10>, type=<SocketKind.SOCK_DGRAM: 2>, laddr=addr(ip='::', port=123), raddr=(), status='NONE', pid=None),\n",
       " sconn(fd=49, family=<AddressFamily.AF_INET: 2>, type=<SocketKind.SOCK_STREAM: 1>, laddr=addr(ip='127.0.0.1', port=39248), raddr=addr(ip='127.0.0.1', port=54281), status='ESTABLISHED', pid=5638),\n",
       " sconn(fd=12, family=<AddressFamily.AF_INET: 2>, type=<SocketKind.SOCK_STREAM: 1>, laddr=addr(ip='129.228.120.86', port=8888), raddr=addr(ip='172.23.42.122', port=61885), status='ESTABLISHED', pid=5638),\n",
       " sconn(fd=-1, family=<AddressFamily.AF_INET: 2>, type=<SocketKind.SOCK_STREAM: 1>, laddr=addr(ip='172.17.0.1', port=43472), raddr=addr(ip='172.17.0.2', port=3306), status='ESTABLISHED', pid=None),\n",
       " sconn(fd=-1, family=<AddressFamily.AF_INET6: 10>, type=<SocketKind.SOCK_STREAM: 1>, laddr=addr(ip='::ffff:129.228.120.86', port=3306), raddr=addr(ip='::ffff:172.17.0.4', port=50814), status='ESTABLISHED', pid=None),\n",
       " sconn(fd=53, family=<AddressFamily.AF_INET: 2>, type=<SocketKind.SOCK_STREAM: 1>, laddr=addr(ip='127.0.0.1', port=51650), raddr=addr(ip='127.0.0.1', port=60001), status='ESTABLISHED', pid=5638),\n",
       " sconn(fd=83, family=<AddressFamily.AF_INET: 2>, type=<SocketKind.SOCK_STREAM: 1>, laddr=addr(ip='127.0.0.1', port=36903), raddr=addr(ip='127.0.0.1', port=35274), status='ESTABLISHED', pid=19766),\n",
       " sconn(fd=-1, family=<AddressFamily.AF_INET6: 10>, type=<SocketKind.SOCK_STREAM: 1>, laddr=addr(ip='::ffff:129.228.120.86', port=80), raddr=addr(ip='::ffff:129.228.120.86', port=39100), status='TIME_WAIT', pid=None),\n",
       " sconn(fd=-1, family=<AddressFamily.AF_INET6: 10>, type=<SocketKind.SOCK_STREAM: 1>, laddr=addr(ip='::ffff:129.228.120.86', port=80), raddr=addr(ip='::ffff:129.228.120.86', port=39082), status='TIME_WAIT', pid=None),\n",
       " sconn(fd=-1, family=<AddressFamily.AF_INET: 2>, type=<SocketKind.SOCK_DGRAM: 2>, laddr=addr(ip='0.0.0.0', port=123), raddr=(), status='NONE', pid=None),\n",
       " sconn(fd=-1, family=<AddressFamily.AF_INET6: 10>, type=<SocketKind.SOCK_DGRAM: 2>, laddr=addr(ip='::', port=1900), raddr=(), status='NONE', pid=None),\n",
       " sconn(fd=-1, family=<AddressFamily.AF_INET6: 10>, type=<SocketKind.SOCK_STREAM: 1>, laddr=addr(ip='::ffff:129.228.120.86', port=3306), raddr=addr(ip='::ffff:172.17.0.4', port=50776), status='FIN_WAIT2', pid=None),\n",
       " sconn(fd=-1, family=<AddressFamily.AF_INET: 2>, type=<SocketKind.SOCK_STREAM: 1>, laddr=addr(ip='127.0.0.1', port=25), raddr=(), status='LISTEN', pid=None),\n",
       " sconn(fd=13, family=<AddressFamily.AF_INET6: 10>, type=<SocketKind.SOCK_DGRAM: 2>, laddr=addr(ip='::', port=51208), raddr=(), status='NONE', pid=19515),\n",
       " sconn(fd=5, family=<AddressFamily.AF_INET: 2>, type=<SocketKind.SOCK_STREAM: 1>, laddr=addr(ip='0.0.0.0', port=8085), raddr=(), status='LISTEN', pid=32597),\n",
       " sconn(fd=79, family=<AddressFamily.AF_INET: 2>, type=<SocketKind.SOCK_STREAM: 1>, laddr=addr(ip='127.0.0.1', port=48517), raddr=addr(ip='127.0.0.1', port=45660), status='ESTABLISHED', pid=19766),\n",
       " sconn(fd=-1, family=<AddressFamily.AF_INET: 2>, type=<SocketKind.SOCK_STREAM: 1>, laddr=addr(ip='172.17.0.1', port=43452), raddr=addr(ip='172.17.0.2', port=3306), status='ESTABLISHED', pid=None),\n",
       " sconn(fd=-1, family=<AddressFamily.AF_INET: 2>, type=<SocketKind.SOCK_STREAM: 1>, laddr=addr(ip='172.17.0.1', port=43370), raddr=addr(ip='172.17.0.2', port=3306), status='ESTABLISHED', pid=None),\n",
       " sconn(fd=-1, family=<AddressFamily.AF_INET6: 10>, type=<SocketKind.SOCK_STREAM: 1>, laddr=addr(ip='::', port=80), raddr=(), status='LISTEN', pid=None),\n",
       " sconn(fd=-1, family=<AddressFamily.AF_INET6: 10>, type=<SocketKind.SOCK_STREAM: 1>, laddr=addr(ip='::ffff:129.228.120.86', port=3306), raddr=addr(ip='::ffff:172.17.0.4', port=50764), status='FIN_WAIT2', pid=None),\n",
       " sconn(fd=62, family=<AddressFamily.AF_INET: 2>, type=<SocketKind.SOCK_STREAM: 1>, laddr=addr(ip='127.0.0.1', port=42459), raddr=(), status='LISTEN', pid=6131),\n",
       " sconn(fd=64, family=<AddressFamily.AF_INET: 2>, type=<SocketKind.SOCK_STREAM: 1>, laddr=addr(ip='127.0.0.1', port=55310), raddr=addr(ip='127.0.0.1', port=41877), status='ESTABLISHED', pid=5638),\n",
       " sconn(fd=-1, family=<AddressFamily.AF_INET6: 10>, type=<SocketKind.SOCK_STREAM: 1>, laddr=addr(ip='::', port=111), raddr=(), status='LISTEN', pid=None),\n",
       " sconn(fd=-1, family=<AddressFamily.AF_INET6: 10>, type=<SocketKind.SOCK_STREAM: 1>, laddr=addr(ip='::ffff:129.228.120.86', port=80), raddr=addr(ip='::ffff:129.228.120.86', port=39112), status='FIN_WAIT2', pid=None),\n",
       " sconn(fd=-1, family=<AddressFamily.AF_INET6: 10>, type=<SocketKind.SOCK_DGRAM: 2>, laddr=addr(ip='fe80::5039:aaff:fe72:9757', port=123), raddr=(), status='NONE', pid=None),\n",
       " sconn(fd=80, family=<AddressFamily.AF_INET: 2>, type=<SocketKind.SOCK_STREAM: 1>, laddr=addr(ip='127.0.0.1', port=37325), raddr=addr(ip='127.0.0.1', port=35696), status='ESTABLISHED', pid=6653),\n",
       " sconn(fd=43, family=<AddressFamily.AF_INET: 2>, type=<SocketKind.SOCK_STREAM: 1>, laddr=addr(ip='127.0.0.1', port=60001), raddr=(), status='LISTEN', pid=6131),\n",
       " sconn(fd=70, family=<AddressFamily.AF_INET: 2>, type=<SocketKind.SOCK_STREAM: 1>, laddr=addr(ip='127.0.0.1', port=60001), raddr=addr(ip='127.0.0.1', port=51646), status='ESTABLISHED', pid=6131),\n",
       " sconn(fd=40, family=<AddressFamily.AF_INET: 2>, type=<SocketKind.SOCK_STREAM: 1>, laddr=addr(ip='129.228.120.86', port=8888), raddr=addr(ip='172.23.42.122', port=55325), status='ESTABLISHED', pid=5638),\n",
       " sconn(fd=-1, family=<AddressFamily.AF_INET: 2>, type=<SocketKind.SOCK_STREAM: 1>, laddr=addr(ip='172.17.0.1', port=43410), raddr=addr(ip='172.17.0.2', port=3306), status='CLOSE_WAIT', pid=None),\n",
       " sconn(fd=37, family=<AddressFamily.AF_INET: 2>, type=<SocketKind.SOCK_STREAM: 1>, laddr=addr(ip='129.228.120.86', port=8888), raddr=addr(ip='172.23.42.122', port=55324), status='ESTABLISHED', pid=5638),\n",
       " sconn(fd=15, family=<AddressFamily.AF_INET: 2>, type=<SocketKind.SOCK_STREAM: 1>, laddr=addr(ip='129.228.120.86', port=39118), raddr=addr(ip='129.228.120.86', port=80), status='ESTABLISHED', pid=19474),\n",
       " sconn(fd=-1, family=<AddressFamily.AF_INET6: 10>, type=<SocketKind.SOCK_STREAM: 1>, laddr=addr(ip='::ffff:129.228.120.86', port=80), raddr=addr(ip='::ffff:129.228.120.86', port=39104), status='TIME_WAIT', pid=None),\n",
       " sconn(fd=-1, family=<AddressFamily.AF_INET6: 10>, type=<SocketKind.SOCK_STREAM: 1>, laddr=addr(ip='::ffff:129.228.120.86', port=80), raddr=addr(ip='::ffff:129.228.120.86', port=39094), status='TIME_WAIT', pid=None),\n",
       " sconn(fd=-1, family=<AddressFamily.AF_INET: 2>, type=<SocketKind.SOCK_STREAM: 1>, laddr=addr(ip='172.17.0.1', port=43404), raddr=addr(ip='172.17.0.2', port=3306), status='ESTABLISHED', pid=None),\n",
       " sconn(fd=49, family=<AddressFamily.AF_INET: 2>, type=<SocketKind.SOCK_STREAM: 1>, laddr=addr(ip='127.0.0.1', port=45495), raddr=(), status='LISTEN', pid=6131),\n",
       " sconn(fd=59, family=<AddressFamily.AF_INET: 2>, type=<SocketKind.SOCK_STREAM: 1>, laddr=addr(ip='127.0.0.1', port=37687), raddr=(), status='LISTEN', pid=19766),\n",
       " sconn(fd=-1, family=<AddressFamily.AF_INET: 2>, type=<SocketKind.SOCK_STREAM: 1>, laddr=addr(ip='0.0.0.0', port=22), raddr=(), status='LISTEN', pid=None),\n",
       " sconn(fd=-1, family=<AddressFamily.AF_INET: 2>, type=<SocketKind.SOCK_STREAM: 1>, laddr=addr(ip='129.228.120.86', port=22), raddr=addr(ip='172.23.42.122', port=50085), status='ESTABLISHED', pid=None),\n",
       " sconn(fd=9, family=<AddressFamily.AF_INET: 2>, type=<SocketKind.SOCK_DGRAM: 2>, laddr=addr(ip='0.0.0.0', port=1234), raddr=(), status='NONE', pid=19456),\n",
       " sconn(fd=-1, family=<AddressFamily.AF_INET6: 10>, type=<SocketKind.SOCK_STREAM: 1>, laddr=addr(ip='::ffff:129.228.120.86', port=3306), raddr=addr(ip='::ffff:172.17.0.4', port=50762), status='FIN_WAIT2', pid=None),\n",
       " sconn(fd=-1, family=<AddressFamily.AF_INET6: 10>, type=<SocketKind.SOCK_DGRAM: 2>, laddr=addr(ip='fe80::42:8aff:fe2f:11a7', port=123), raddr=(), status='NONE', pid=None),\n",
       " sconn(fd=-1, family=<AddressFamily.AF_INET6: 10>, type=<SocketKind.SOCK_STREAM: 1>, laddr=addr(ip='::', port=8080), raddr=(), status='LISTEN', pid=None),\n",
       " sconn(fd=14, family=<AddressFamily.AF_INET: 2>, type=<SocketKind.SOCK_STREAM: 1>, laddr=addr(ip='127.0.0.1', port=39554), raddr=addr(ip='127.0.0.1', port=53407), status='ESTABLISHED', pid=5638),\n",
       " sconn(fd=-1, family=<AddressFamily.AF_INET: 2>, type=<SocketKind.SOCK_DGRAM: 2>, laddr=addr(ip='129.228.120.86', port=123), raddr=(), status='NONE', pid=None),\n",
       " sconn(fd=-1, family=<AddressFamily.AF_INET: 2>, type=<SocketKind.SOCK_DGRAM: 2>, laddr=addr(ip='0.0.0.0', port=50100), raddr=(), status='NONE', pid=None),\n",
       " sconn(fd=-1, family=<AddressFamily.AF_INET: 2>, type=<SocketKind.SOCK_STREAM: 1>, laddr=addr(ip='172.17.0.1', port=43412), raddr=addr(ip='172.17.0.2', port=3306), status='CLOSE_WAIT', pid=None),\n",
       " sconn(fd=-1, family=<AddressFamily.AF_INET: 2>, type=<SocketKind.SOCK_STREAM: 1>, laddr=addr(ip='172.17.0.1', port=43362), raddr=addr(ip='172.17.0.2', port=3306), status='ESTABLISHED', pid=None),\n",
       " sconn(fd=-1, family=<AddressFamily.AF_INET6: 10>, type=<SocketKind.SOCK_STREAM: 1>, laddr=addr(ip='::', port=22), raddr=(), status='LISTEN', pid=None),\n",
       " sconn(fd=13, family=<AddressFamily.AF_INET6: 10>, type=<SocketKind.SOCK_DGRAM: 2>, laddr=addr(ip='::', port=54160), raddr=(), status='NONE', pid=19474),\n",
       " sconn(fd=-1, family=<AddressFamily.AF_INET: 2>, type=<SocketKind.SOCK_STREAM: 1>, laddr=addr(ip='129.228.120.86', port=22), raddr=addr(ip='172.23.42.122', port=63219), status='ESTABLISHED', pid=None),\n",
       " sconn(fd=-1, family=<AddressFamily.AF_INET6: 10>, type=<SocketKind.SOCK_DGRAM: 2>, laddr=addr(ip='::', port=5353), raddr=(), status='NONE', pid=None),\n",
       " sconn(fd=-1, family=<AddressFamily.AF_INET6: 10>, type=<SocketKind.SOCK_STREAM: 1>, laddr=addr(ip='::ffff:129.228.120.86', port=3306), raddr=addr(ip='::ffff:172.17.0.4', port=50740), status='ESTABLISHED', pid=None),\n",
       " sconn(fd=-1, family=<AddressFamily.AF_INET6: 10>, type=<SocketKind.SOCK_STREAM: 1>, laddr=addr(ip='::ffff:129.228.120.86', port=3306), raddr=addr(ip='::ffff:172.17.0.4', port=50734), status='FIN_WAIT2', pid=None),\n",
       " sconn(fd=-1, family=<AddressFamily.AF_INET: 2>, type=<SocketKind.SOCK_STREAM: 1>, laddr=addr(ip='172.17.0.1', port=43346), raddr=addr(ip='172.17.0.2', port=3306), status='CLOSE_WAIT', pid=None),\n",
       " sconn(fd=69, family=<AddressFamily.AF_INET: 2>, type=<SocketKind.SOCK_STREAM: 1>, laddr=addr(ip='127.0.0.1', port=35274), raddr=addr(ip='127.0.0.1', port=36903), status='ESTABLISHED', pid=5638),\n",
       " sconn(fd=-1, family=<AddressFamily.AF_INET: 2>, type=<SocketKind.SOCK_STREAM: 1>, laddr=addr(ip='129.228.120.86', port=22), raddr=addr(ip='172.23.42.122', port=60735), status='ESTABLISHED', pid=None),\n",
       " sconn(fd=40, family=<AddressFamily.AF_INET: 2>, type=<SocketKind.SOCK_STREAM: 1>, laddr=addr(ip='127.0.0.1', port=48517), raddr=(), status='LISTEN', pid=19766),\n",
       " sconn(fd=-1, family=<AddressFamily.AF_INET6: 10>, type=<SocketKind.SOCK_STREAM: 1>, laddr=addr(ip='::ffff:129.228.120.86', port=80), raddr=addr(ip='::ffff:129.228.120.86', port=39098), status='TIME_WAIT', pid=None),\n",
       " sconn(fd=-1, family=<AddressFamily.AF_INET6: 10>, type=<SocketKind.SOCK_STREAM: 1>, laddr=addr(ip='::ffff:129.228.120.86', port=80), raddr=addr(ip='::ffff:129.228.120.86', port=39110), status='FIN_WAIT2', pid=None),\n",
       " sconn(fd=30, family=<AddressFamily.AF_INET: 2>, type=<SocketKind.SOCK_STREAM: 1>, laddr=addr(ip='127.0.0.1', port=32982), raddr=addr(ip='127.0.0.1', port=49759), status='ESTABLISHED', pid=5638),\n",
       " sconn(fd=-1, family=<AddressFamily.AF_INET: 2>, type=<SocketKind.SOCK_DGRAM: 2>, laddr=addr(ip='0.0.0.0', port=5353), raddr=(), status='NONE', pid=None),\n",
       " sconn(fd=-1, family=<AddressFamily.AF_INET: 2>, type=<SocketKind.SOCK_DGRAM: 2>, laddr=addr(ip='0.0.0.0', port=54627), raddr=(), status='NONE', pid=None),\n",
       " sconn(fd=69, family=<AddressFamily.AF_INET: 2>, type=<SocketKind.SOCK_STREAM: 1>, laddr=addr(ip='127.0.0.1', port=54281), raddr=addr(ip='127.0.0.1', port=39248), status='ESTABLISHED', pid=6131),\n",
       " sconn(fd=-1, family=<AddressFamily.AF_INET: 2>, type=<SocketKind.SOCK_STREAM: 1>, laddr=addr(ip='172.17.0.1', port=43400), raddr=addr(ip='172.17.0.2', port=3306), status='ESTABLISHED', pid=None),\n",
       " sconn(fd=16, family=<AddressFamily.AF_INET: 2>, type=<SocketKind.SOCK_STREAM: 1>, laddr=addr(ip='127.0.0.1', port=44702), raddr=addr(ip='127.0.0.1', port=57629), status='ESTABLISHED', pid=5638),\n",
       " sconn(fd=-1, family=<AddressFamily.AF_INET6: 10>, type=<SocketKind.SOCK_STREAM: 1>, laddr=addr(ip='::ffff:129.228.120.86', port=80), raddr=addr(ip='::ffff:129.228.120.86', port=39086), status='TIME_WAIT', pid=None),\n",
       " sconn(fd=17, family=<AddressFamily.AF_INET: 2>, type=<SocketKind.SOCK_STREAM: 1>, laddr=addr(ip='127.0.0.1', port=39558), raddr=addr(ip='127.0.0.1', port=53407), status='ESTABLISHED', pid=5638),\n",
       " sconn(fd=-1, family=<AddressFamily.AF_INET6: 10>, type=<SocketKind.SOCK_STREAM: 1>, laddr=addr(ip='::ffff:129.228.120.86', port=3306), raddr=addr(ip='::ffff:172.17.0.4', port=50772), status='FIN_WAIT2', pid=None),\n",
       " sconn(fd=-1, family=<AddressFamily.AF_INET: 2>, type=<SocketKind.SOCK_STREAM: 1>, laddr=addr(ip='172.17.0.1', port=43446), raddr=addr(ip='172.17.0.2', port=3306), status='CLOSE_WAIT', pid=None),\n",
       " sconn(fd=-1, family=<AddressFamily.AF_INET: 2>, type=<SocketKind.SOCK_DGRAM: 2>, laddr=addr(ip='127.0.0.1', port=161), raddr=(), status='NONE', pid=None),\n",
       " sconn(fd=-1, family=<AddressFamily.AF_INET: 2>, type=<SocketKind.SOCK_STREAM: 1>, laddr=addr(ip='127.0.0.1', port=6379), raddr=(), status='LISTEN', pid=None),\n",
       " sconn(fd=-1, family=<AddressFamily.AF_INET6: 10>, type=<SocketKind.SOCK_DGRAM: 2>, laddr=addr(ip='fe80::ec15:65ff:fe6e:d072', port=123), raddr=(), status='NONE', pid=None),\n",
       " sconn(fd=-1, family=<AddressFamily.AF_INET6: 10>, type=<SocketKind.SOCK_STREAM: 1>, laddr=addr(ip='::', port=10051), raddr=(), status='LISTEN', pid=None),\n",
       " sconn(fd=3, family=<AddressFamily.AF_INET6: 10>, type=<SocketKind.SOCK_STREAM: 1>, laddr=addr(ip='::1', port=51220), raddr=addr(ip='::1', port=6379), status='ESTABLISHED', pid=6538),\n",
       " sconn(fd=-1, family=<AddressFamily.AF_INET: 2>, type=<SocketKind.SOCK_STREAM: 1>, laddr=addr(ip='172.17.0.1', port=43454), raddr=addr(ip='172.17.0.2', port=3306), status='CLOSE_WAIT', pid=None),\n",
       " sconn(fd=-1, family=<AddressFamily.AF_INET6: 10>, type=<SocketKind.SOCK_STREAM: 1>, laddr=addr(ip='::1', port=631), raddr=(), status='LISTEN', pid=None),\n",
       " sconn(fd=77, family=<AddressFamily.AF_INET: 2>, type=<SocketKind.SOCK_STREAM: 1>, laddr=addr(ip='127.0.0.1', port=57629), raddr=addr(ip='127.0.0.1', port=44702), status='ESTABLISHED', pid=6653),\n",
       " sconn(fd=78, family=<AddressFamily.AF_INET: 2>, type=<SocketKind.SOCK_STREAM: 1>, laddr=addr(ip='127.0.0.1', port=53407), raddr=addr(ip='127.0.0.1', port=39558), status='ESTABLISHED', pid=6653),\n",
       " sconn(fd=-1, family=<AddressFamily.AF_INET: 2>, type=<SocketKind.SOCK_DGRAM: 2>, laddr=addr(ip='0.0.0.0', port=68), raddr=(), status='NONE', pid=None),\n",
       " sconn(fd=-1, family=<AddressFamily.AF_INET: 2>, type=<SocketKind.SOCK_STREAM: 1>, laddr=addr(ip='172.17.0.1', port=43350), raddr=addr(ip='172.17.0.2', port=3306), status='CLOSE_WAIT', pid=None),\n",
       " sconn(fd=-1, family=<AddressFamily.AF_INET6: 10>, type=<SocketKind.SOCK_STREAM: 1>, laddr=addr(ip='::ffff:129.228.120.86', port=3306), raddr=addr(ip='::ffff:172.17.0.4', port=50716), status='ESTABLISHED', pid=None),\n",
       " sconn(fd=-1, family=<AddressFamily.AF_INET6: 10>, type=<SocketKind.SOCK_STREAM: 1>, laddr=addr(ip='::1', port=6379), raddr=addr(ip='::1', port=42522), status='ESTABLISHED', pid=None),\n",
       " sconn(fd=-1, family=<AddressFamily.AF_INET6: 10>, type=<SocketKind.SOCK_STREAM: 1>, laddr=addr(ip='::ffff:129.228.120.86', port=80), raddr=addr(ip='::ffff:129.228.120.86', port=39102), status='TIME_WAIT', pid=None),\n",
       " sconn(fd=33, family=<AddressFamily.AF_INET: 2>, type=<SocketKind.SOCK_STREAM: 1>, laddr=addr(ip='127.0.0.1', port=43843), raddr=(), status='LISTEN', pid=6131),\n",
       " sconn(fd=-1, family=<AddressFamily.AF_INET6: 10>, type=<SocketKind.SOCK_STREAM: 1>, laddr=addr(ip='::ffff:129.228.120.86', port=80), raddr=addr(ip='::ffff:129.228.120.86', port=39096), status='TIME_WAIT', pid=None),\n",
       " sconn(fd=-1, family=<AddressFamily.AF_INET: 2>, type=<SocketKind.SOCK_STREAM: 1>, laddr=addr(ip='172.17.0.1', port=43464), raddr=addr(ip='172.17.0.2', port=3306), status='CLOSE_WAIT', pid=None),\n",
       " sconn(fd=50, family=<AddressFamily.AF_INET: 2>, type=<SocketKind.SOCK_STREAM: 1>, laddr=addr(ip='127.0.0.1', port=51646), raddr=addr(ip='127.0.0.1', port=60001), status='ESTABLISHED', pid=5638),\n",
       " sconn(fd=74, family=<AddressFamily.AF_INET: 2>, type=<SocketKind.SOCK_STREAM: 1>, laddr=addr(ip='127.0.0.1', port=53407), raddr=addr(ip='127.0.0.1', port=39554), status='ESTABLISHED', pid=6653),\n",
       " sconn(fd=-1, family=<AddressFamily.AF_INET: 2>, type=<SocketKind.SOCK_STREAM: 1>, laddr=addr(ip='172.17.0.1', port=43450), raddr=addr(ip='172.17.0.2', port=3306), status='CLOSE_WAIT', pid=None),\n",
       " sconn(fd=65, family=<AddressFamily.AF_INET: 2>, type=<SocketKind.SOCK_STREAM: 1>, laddr=addr(ip='127.0.0.1', port=45660), raddr=addr(ip='127.0.0.1', port=48517), status='ESTABLISHED', pid=5638),\n",
       " sconn(fd=-1, family=<AddressFamily.AF_INET6: 10>, type=<SocketKind.SOCK_STREAM: 1>, laddr=addr(ip='::ffff:129.228.120.86', port=3306), raddr=addr(ip='::ffff:172.17.0.4', port=50742), status='FIN_WAIT2', pid=None),\n",
       " sconn(fd=3, family=<AddressFamily.AF_INET: 2>, type=<SocketKind.SOCK_STREAM: 1>, laddr=addr(ip='0.0.0.0', port=8888), raddr=(), status='LISTEN', pid=5638),\n",
       " sconn(fd=-1, family=<AddressFamily.AF_INET: 2>, type=<SocketKind.SOCK_STREAM: 1>, laddr=addr(ip='172.17.0.1', port=43358), raddr=addr(ip='172.17.0.2', port=3306), status='CLOSE_WAIT', pid=None),\n",
       " sconn(fd=-1, family=<AddressFamily.AF_INET6: 10>, type=<SocketKind.SOCK_STREAM: 1>, laddr=addr(ip='::ffff:129.228.120.86', port=80), raddr=addr(ip='::ffff:129.228.120.86', port=39088), status='TIME_WAIT', pid=None),\n",
       " sconn(fd=66, family=<AddressFamily.AF_INET: 2>, type=<SocketKind.SOCK_STREAM: 1>, laddr=addr(ip='127.0.0.1', port=35270), raddr=addr(ip='127.0.0.1', port=36903), status='ESTABLISHED', pid=5638),\n",
       " sconn(fd=-1, family=<AddressFamily.AF_INET6: 10>, type=<SocketKind.SOCK_STREAM: 1>, laddr=addr(ip='::ffff:129.228.120.86', port=3306), raddr=addr(ip='::ffff:172.17.0.4', port=50708), status='FIN_WAIT2', pid=None),\n",
       " sconn(fd=12, family=<AddressFamily.AF_INET: 2>, type=<SocketKind.SOCK_DGRAM: 2>, laddr=addr(ip='0.0.0.0', port=41168), raddr=(), status='NONE', pid=19488),\n",
       " sconn(fd=33, family=<AddressFamily.AF_INET: 2>, type=<SocketKind.SOCK_STREAM: 1>, laddr=addr(ip='129.228.120.86', port=8888), raddr=addr(ip='172.23.42.122', port=55322), status='ESTABLISHED', pid=5638),\n",
       " sconn(fd=-1, family=<AddressFamily.AF_INET6: 10>, type=<SocketKind.SOCK_STREAM: 1>, laddr=addr(ip='::', port=3389), raddr=(), status='LISTEN', pid=None),\n",
       " sconn(fd=-1, family=<AddressFamily.AF_INET6: 10>, type=<SocketKind.SOCK_STREAM: 1>, laddr=addr(ip='::ffff:129.228.120.86', port=3306), raddr=addr(ip='::ffff:172.17.0.4', port=50724), status='ESTABLISHED', pid=None),\n",
       " sconn(fd=-1, family=<AddressFamily.AF_INET: 2>, type=<SocketKind.SOCK_STREAM: 1>, laddr=addr(ip='129.228.120.86', port=43536), raddr=addr(ip='129.228.120.198', port=445), status='ESTABLISHED', pid=None),\n",
       " sconn(fd=-1, family=<AddressFamily.AF_INET6: 10>, type=<SocketKind.SOCK_STREAM: 1>, laddr=addr(ip='::1', port=6379), raddr=addr(ip='::1', port=42536), status='ESTABLISHED', pid=None),\n",
       " sconn(fd=49, family=<AddressFamily.AF_INET: 2>, type=<SocketKind.SOCK_STREAM: 1>, laddr=addr(ip='127.0.0.1', port=36903), raddr=(), status='LISTEN', pid=19766),\n",
       " sconn(fd=27, family=<AddressFamily.AF_INET: 2>, type=<SocketKind.SOCK_STREAM: 1>, laddr=addr(ip='127.0.0.1', port=35696), raddr=addr(ip='127.0.0.1', port=37325), status='ESTABLISHED', pid=5638),\n",
       " sconn(fd=-1, family=<AddressFamily.AF_INET6: 10>, type=<SocketKind.SOCK_STREAM: 1>, laddr=addr(ip='::ffff:129.228.120.86', port=3306), raddr=addr(ip='::ffff:172.17.0.4', port=50738), status='FIN_WAIT2', pid=None),\n",
       " sconn(fd=4, family=<AddressFamily.AF_INET6: 10>, type=<SocketKind.SOCK_STREAM: 1>, laddr=addr(ip='::', port=8888), raddr=(), status='LISTEN', pid=5638),\n",
       " sconn(fd=13, family=<AddressFamily.AF_INET: 2>, type=<SocketKind.SOCK_STREAM: 1>, laddr=addr(ip='129.228.120.86', port=8888), raddr=addr(ip='172.23.42.122', port=55320), status='ESTABLISHED', pid=5638),\n",
       " sconn(fd=-1, family=<AddressFamily.AF_INET6: 10>, type=<SocketKind.SOCK_STREAM: 1>, laddr=addr(ip='::ffff:129.228.120.86', port=3306), raddr=addr(ip='::ffff:172.17.0.4', port=50730), status='FIN_WAIT2', pid=None),\n",
       " sconn(fd=-1, family=<AddressFamily.AF_INET6: 10>, type=<SocketKind.SOCK_STREAM: 1>, laddr=addr(ip='::ffff:129.228.120.86', port=3306), raddr=addr(ip='::ffff:172.17.0.4', port=50704), status='FIN_WAIT2', pid=None),\n",
       " sconn(fd=26, family=<AddressFamily.AF_INET: 2>, type=<SocketKind.SOCK_STREAM: 1>, laddr=addr(ip='129.228.120.86', port=8888), raddr=addr(ip='172.23.42.122', port=55321), status='ESTABLISHED', pid=5638),\n",
       " sconn(fd=-1, family=<AddressFamily.AF_INET6: 10>, type=<SocketKind.SOCK_STREAM: 1>, laddr=addr(ip='::ffff:129.228.120.86', port=80), raddr=addr(ip='::ffff:129.228.120.86', port=39076), status='TIME_WAIT', pid=None),\n",
       " sconn(fd=70, family=<AddressFamily.AF_INET: 2>, type=<SocketKind.SOCK_STREAM: 1>, laddr=addr(ip='127.0.0.1', port=50799), raddr=(), status='LISTEN', pid=6653),\n",
       " sconn(fd=-1, family=<AddressFamily.AF_INET: 2>, type=<SocketKind.SOCK_STREAM: 1>, laddr=addr(ip='172.17.0.1', port=43444), raddr=addr(ip='172.17.0.2', port=3306), status='CLOSE_WAIT', pid=None),\n",
       " sconn(fd=34, family=<AddressFamily.AF_INET: 2>, type=<SocketKind.SOCK_STREAM: 1>, laddr=addr(ip='129.228.120.86', port=8888), raddr=addr(ip='172.23.42.122', port=55323), status='ESTABLISHED', pid=5638),\n",
       " sconn(fd=-1, family=<AddressFamily.AF_INET: 2>, type=<SocketKind.SOCK_STREAM: 1>, laddr=addr(ip='172.17.0.1', port=43394), raddr=addr(ip='172.17.0.2', port=3306), status='CLOSE_WAIT', pid=None),\n",
       " sconn(fd=-1, family=<AddressFamily.AF_INET6: 10>, type=<SocketKind.SOCK_STREAM: 1>, laddr=addr(ip='::1', port=6379), raddr=(), status='LISTEN', pid=None),\n",
       " sconn(fd=-1, family=<AddressFamily.AF_INET6: 10>, type=<SocketKind.SOCK_STREAM: 1>, laddr=addr(ip='::ffff:129.228.120.86', port=3306), raddr=addr(ip='::ffff:172.17.0.4', port=50758), status='ESTABLISHED', pid=None),\n",
       " sconn(fd=-1, family=<AddressFamily.AF_INET: 2>, type=<SocketKind.SOCK_STREAM: 1>, laddr=addr(ip='172.17.0.1', port=43462), raddr=addr(ip='172.17.0.2', port=3306), status='ESTABLISHED', pid=None),\n",
       " sconn(fd=6, family=<AddressFamily.AF_INET6: 10>, type=<SocketKind.SOCK_STREAM: 1>, laddr=addr(ip='::1', port=42520), raddr=addr(ip='::1', port=6379), status='ESTABLISHED', pid=9991),\n",
       " sconn(fd=-1, family=<AddressFamily.AF_INET6: 10>, type=<SocketKind.SOCK_DGRAM: 2>, laddr=addr(ip='::', port=58377), raddr=(), status='NONE', pid=None),\n",
       " sconn(fd=-1, family=<AddressFamily.AF_INET6: 10>, type=<SocketKind.SOCK_STREAM: 1>, laddr=addr(ip='::ffff:129.228.120.86', port=80), raddr=addr(ip='::ffff:129.228.120.86', port=39106), status='TIME_WAIT', pid=None),\n",
       " sconn(fd=12, family=<AddressFamily.AF_INET: 2>, type=<SocketKind.SOCK_DGRAM: 2>, laddr=addr(ip='0.0.0.0', port=49087), raddr=(), status='NONE', pid=19501),\n",
       " sconn(fd=72, family=<AddressFamily.AF_INET: 2>, type=<SocketKind.SOCK_STREAM: 1>, laddr=addr(ip='127.0.0.1', port=36156), raddr=addr(ip='127.0.0.1', port=59925), status='ESTABLISHED', pid=5638),\n",
       " sconn(fd=-1, family=<AddressFamily.AF_INET6: 10>, type=<SocketKind.SOCK_STREAM: 1>, laddr=addr(ip='::ffff:129.228.120.86', port=80), raddr=addr(ip='::ffff:129.228.120.86', port=39090), status='TIME_WAIT', pid=None),\n",
       " sconn(fd=33, family=<AddressFamily.AF_INET: 2>, type=<SocketKind.SOCK_STREAM: 1>, laddr=addr(ip='127.0.0.1', port=59925), raddr=(), status='LISTEN', pid=19766),\n",
       " sconn(fd=-1, family=<AddressFamily.AF_INET: 2>, type=<SocketKind.SOCK_STREAM: 1>, laddr=addr(ip='172.17.0.1', port=43366), raddr=addr(ip='172.17.0.2', port=3306), status='ESTABLISHED', pid=None),\n",
       " sconn(fd=-1, family=<AddressFamily.AF_INET6: 10>, type=<SocketKind.SOCK_STREAM: 1>, laddr=addr(ip='::ffff:129.228.120.86', port=3306), raddr=addr(ip='::ffff:172.17.0.4', port=50774), status='FIN_WAIT2', pid=None),\n",
       " sconn(fd=84, family=<AddressFamily.AF_INET: 2>, type=<SocketKind.SOCK_STREAM: 1>, laddr=addr(ip='127.0.0.1', port=59925), raddr=addr(ip='127.0.0.1', port=36156), status='ESTABLISHED', pid=19766),\n",
       " sconn(fd=17, family=<AddressFamily.AF_INET: 2>, type=<SocketKind.SOCK_STREAM: 1>, laddr=addr(ip='129.228.120.86', port=39114), raddr=addr(ip='129.228.120.86', port=80), status='ESTABLISHED', pid=19515),\n",
       " sconn(fd=-1, family=<AddressFamily.AF_INET6: 10>, type=<SocketKind.SOCK_STREAM: 1>, laddr=addr(ip='::ffff:129.228.120.86', port=80), raddr=addr(ip='::ffff:129.228.120.86', port=39118), status='ESTABLISHED', pid=None),\n",
       " sconn(fd=-1, family=<AddressFamily.AF_INET6: 10>, type=<SocketKind.SOCK_STREAM: 1>, laddr=addr(ip='::ffff:129.228.120.86', port=3306), raddr=addr(ip='::ffff:172.17.0.4', port=50778), status='ESTABLISHED', pid=None),\n",
       " sconn(fd=27, family=<AddressFamily.AF_INET: 2>, type=<SocketKind.SOCK_STREAM: 1>, laddr=addr(ip='127.0.0.1', port=49759), raddr=(), status='LISTEN', pid=6653),\n",
       " sconn(fd=12, family=<AddressFamily.AF_INET: 2>, type=<SocketKind.SOCK_DGRAM: 2>, laddr=addr(ip='0.0.0.0', port=37346), raddr=(), status='NONE', pid=19474),\n",
       " sconn(fd=-1, family=<AddressFamily.AF_INET6: 10>, type=<SocketKind.SOCK_STREAM: 1>, laddr=addr(ip='::ffff:129.228.120.86', port=3306), raddr=addr(ip='::ffff:172.17.0.4', port=50770), status='FIN_WAIT2', pid=None),\n",
       " sconn(fd=-1, family=<AddressFamily.AF_INET6: 10>, type=<SocketKind.SOCK_STREAM: 1>, laddr=addr(ip='::ffff:129.228.120.86', port=3306), raddr=addr(ip='::ffff:172.17.0.4', port=50712), status='FIN_WAIT2', pid=None),\n",
       " sconn(fd=-1, family=<AddressFamily.AF_INET6: 10>, type=<SocketKind.SOCK_STREAM: 1>, laddr=addr(ip='::1', port=6379), raddr=addr(ip='::1', port=42520), status='ESTABLISHED', pid=None),\n",
       " sconn(fd=-1, family=<AddressFamily.AF_INET6: 10>, type=<SocketKind.SOCK_STREAM: 1>, laddr=addr(ip='::1', port=25), raddr=(), status='LISTEN', pid=None),\n",
       " sconn(fd=-1, family=<AddressFamily.AF_INET6: 10>, type=<SocketKind.SOCK_STREAM: 1>, laddr=addr(ip='::ffff:129.228.120.86', port=80), raddr=addr(ip='::ffff:129.228.120.86', port=39078), status='TIME_WAIT', pid=None),\n",
       " sconn(fd=-1, family=<AddressFamily.AF_INET6: 10>, type=<SocketKind.SOCK_STREAM: 1>, laddr=addr(ip='::ffff:129.228.120.86', port=3306), raddr=addr(ip='::ffff:172.17.0.4', port=50736), status='FIN_WAIT2', pid=None),\n",
       " sconn(fd=-1, family=<AddressFamily.AF_INET: 2>, type=<SocketKind.SOCK_STREAM: 1>, laddr=addr(ip='0.0.0.0', port=538), raddr=(), status='LISTEN', pid=None),\n",
       " sconn(fd=-1, family=<AddressFamily.AF_INET6: 10>, type=<SocketKind.SOCK_STREAM: 1>, laddr=addr(ip='::ffff:129.228.120.86', port=3306), raddr=addr(ip='::ffff:172.17.0.4', port=50700), status='FIN_WAIT2', pid=None),\n",
       " sconn(fd=-1, family=<AddressFamily.AF_INET: 2>, type=<SocketKind.SOCK_STREAM: 1>, laddr=addr(ip='127.0.0.1', port=631), raddr=(), status='LISTEN', pid=None),\n",
       " sconn(fd=17, family=<AddressFamily.AF_INET: 2>, type=<SocketKind.SOCK_STREAM: 1>, laddr=addr(ip='129.228.120.86', port=39110), raddr=addr(ip='129.228.120.86', port=80), status='CLOSE_WAIT', pid=19501),\n",
       " sconn(fd=-1, family=<AddressFamily.AF_INET6: 10>, type=<SocketKind.SOCK_STREAM: 1>, laddr=addr(ip='::ffff:129.228.120.86', port=3306), raddr=addr(ip='::ffff:172.17.0.4', port=50720), status='ESTABLISHED', pid=None),\n",
       " sconn(fd=78, family=<AddressFamily.AF_INET: 2>, type=<SocketKind.SOCK_STREAM: 1>, laddr=addr(ip='127.0.0.1', port=41877), raddr=addr(ip='127.0.0.1', port=55310), status='ESTABLISHED', pid=19766),\n",
       " sconn(fd=56, family=<AddressFamily.AF_INET: 2>, type=<SocketKind.SOCK_STREAM: 1>, laddr=addr(ip='127.0.0.1', port=40936), raddr=addr(ip='127.0.0.1', port=43843), status='ESTABLISHED', pid=5638),\n",
       " sconn(fd=11, family=<AddressFamily.AF_INET6: 10>, type=<SocketKind.SOCK_STREAM: 1>, laddr=addr(ip='::1', port=43548), raddr=addr(ip='::1', port=6379), status='ESTABLISHED', pid=9991),\n",
       " sconn(fd=-1, family=<AddressFamily.AF_INET: 2>, type=<SocketKind.SOCK_DGRAM: 2>, laddr=addr(ip='0.0.0.0', port=1900), raddr=(), status='NONE', pid=None),\n",
       " sconn(fd=-1, family=<AddressFamily.AF_INET6: 10>, type=<SocketKind.SOCK_DGRAM: 2>, laddr=addr(ip='::', port=111), raddr=(), status='NONE', pid=None),\n",
       " sconn(fd=-1, family=<AddressFamily.AF_INET: 2>, type=<SocketKind.SOCK_STREAM: 1>, laddr=addr(ip='172.17.0.1', port=43354), raddr=addr(ip='172.17.0.2', port=3306), status='CLOSE_WAIT', pid=None),\n",
       " sconn(fd=40, family=<AddressFamily.AF_INET: 2>, type=<SocketKind.SOCK_STREAM: 1>, laddr=addr(ip='127.0.0.1', port=56679), raddr=(), status='LISTEN', pid=6131),\n",
       " sconn(fd=3, family=<AddressFamily.AF_INET: 2>, type=<SocketKind.SOCK_STREAM: 1>, laddr=addr(ip='129.228.120.86', port=9181), raddr=(), status='LISTEN', pid=9991),\n",
       " sconn(fd=-1, family=<AddressFamily.AF_INET: 2>, type=<SocketKind.SOCK_STREAM: 1>, laddr=addr(ip='0.0.0.0', port=111), raddr=(), status='LISTEN', pid=None),\n",
       " sconn(fd=-1, family=<AddressFamily.AF_INET: 2>, type=<SocketKind.SOCK_DGRAM: 2>, laddr=addr(ip='0.0.0.0', port=631), raddr=(), status='NONE', pid=None),\n",
       " sconn(fd=-1, family=<AddressFamily.AF_INET: 2>, type=<SocketKind.SOCK_DGRAM: 2>, laddr=addr(ip='127.0.0.1', port=123), raddr=(), status='NONE', pid=None),\n",
       " sconn(fd=-1, family=<AddressFamily.AF_INET6: 10>, type=<SocketKind.SOCK_STREAM: 1>, laddr=addr(ip='::1', port=6379), raddr=addr(ip='::1', port=43548), status='ESTABLISHED', pid=None),\n",
       " sconn(fd=-1, family=<AddressFamily.AF_INET: 2>, type=<SocketKind.SOCK_DGRAM: 2>, laddr=addr(ip='0.0.0.0', port=538), raddr=(), status='NONE', pid=None),\n",
       " sconn(fd=-1, family=<AddressFamily.AF_INET6: 10>, type=<SocketKind.SOCK_STREAM: 1>, laddr=addr(ip='::ffff:129.228.120.86', port=3306), raddr=addr(ip='::ffff:172.17.0.4', port=50728), status='FIN_WAIT2', pid=None),\n",
       " sconn(fd=-1, family=<AddressFamily.AF_INET: 2>, type=<SocketKind.SOCK_DGRAM: 2>, laddr=addr(ip='0.0.0.0', port=111), raddr=(), status='NONE', pid=None),\n",
       " sconn(fd=-1, family=<AddressFamily.AF_INET: 2>, type=<SocketKind.SOCK_DGRAM: 2>, laddr=addr(ip='172.17.0.1', port=123), raddr=(), status='NONE', pid=None),\n",
       " sconn(fd=72, family=<AddressFamily.AF_INET: 2>, type=<SocketKind.SOCK_STREAM: 1>, laddr=addr(ip='127.0.0.1', port=53589), raddr=(), status='LISTEN', pid=19766),\n",
       " sconn(fd=-1, family=<AddressFamily.AF_INET: 2>, type=<SocketKind.SOCK_STREAM: 1>, laddr=addr(ip='172.17.0.1', port=43392), raddr=addr(ip='172.17.0.2', port=3306), status='CLOSE_WAIT', pid=None)]"
      ]
     },
     "execution_count": 3,
     "metadata": {},
     "output_type": "execute_result"
    }
   ],
   "source": [
    "psutil.net_connections()"
   ]
  },
  {
   "cell_type": "code",
   "execution_count": 4,
   "metadata": {},
   "outputs": [],
   "source": [
    "p=psutil.Process(19474)"
   ]
  },
  {
   "cell_type": "code",
   "execution_count": 6,
   "metadata": {},
   "outputs": [
    {
     "data": {
      "text/plain": [
       "[pconn(fd=13, family=<AddressFamily.AF_INET6: 10>, type=<SocketKind.SOCK_DGRAM: 2>, laddr=addr(ip='::', port=54160), raddr=(), status='NONE'),\n",
       " pconn(fd=12, family=<AddressFamily.AF_INET: 2>, type=<SocketKind.SOCK_DGRAM: 2>, laddr=addr(ip='0.0.0.0', port=37346), raddr=(), status='NONE')]"
      ]
     },
     "execution_count": 6,
     "metadata": {},
     "output_type": "execute_result"
    }
   ],
   "source": [
    "p.connections(kind='udp')"
   ]
  },
  {
   "cell_type": "code",
   "execution_count": null,
   "metadata": {},
   "outputs": [],
   "source": []
  }
 ],
 "metadata": {
  "kernelspec": {
   "display_name": "ottstreamer",
   "language": "python",
   "name": "ottstreamer"
  },
  "language_info": {
   "codemirror_mode": {
    "name": "ipython",
    "version": 3
   },
   "file_extension": ".py",
   "mimetype": "text/x-python",
   "name": "python",
   "nbconvert_exporter": "python",
   "pygments_lexer": "ipython3",
   "version": "3.7.3"
  }
 },
 "nbformat": 4,
 "nbformat_minor": 2
}
