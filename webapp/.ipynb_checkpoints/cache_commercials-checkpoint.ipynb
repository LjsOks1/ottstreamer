{
 "cells": [
  {
   "cell_type": "code",
   "execution_count": 1,
   "metadata": {},
   "outputs": [],
   "source": [
    "import datetime\n",
    "import os\n",
    "from stat import *\n",
    "from shutil import copyfile\n",
    "from config import Config\n",
    "import pandas\n",
    "import xlrd\n",
    "import fnmatch"
   ]
  },
  {
   "cell_type": "code",
   "execution_count": 5,
   "metadata": {},
   "outputs": [
    {
     "name": "stdout",
     "output_type": "stream",
     "text": [
      "Found 16319 mxf files in /mnt/operations/Operations/\n",
      "Found 0 mxf files in /ddrive/commercials\n",
      "Failed to check missing media files: name 'dst_xls_filename' is not defined\n",
      "Failed to check missing media files: name 'dst_xls_filename' is not defined\n",
      "Failed to check missing media files: name 'dst_xls_filename' is not defined\n",
      "Failed to check missing media files: name 'dst_xls_filename' is not defined\n",
      "Failed to check missing media files: name 'dst_xls_filename' is not defined\n",
      "Failed to check missing media files: name 'dst_xls_filename' is not defined\n",
      "Failed to check missing media files: name 'dst_xls_filename' is not defined\n",
      "Failed to check missing media files: name 'dst_xls_filename' is not defined\n",
      "Failed to check missing media files: name 'dst_xls_filename' is not defined\n",
      "Failed to check missing media files: name 'dst_xls_filename' is not defined\n",
      "Failed to check missing media files: name 'dst_xls_filename' is not defined\n",
      "Failed to check missing media files: name 'dst_xls_filename' is not defined\n",
      "Failed to check missing media files: name 'dst_xls_filename' is not defined\n",
      "Failed to check missing media files: name 'dst_xls_filename' is not defined\n",
      "Failed to check missing media files: name 'dst_xls_filename' is not defined\n",
      "Failed to check missing media files: name 'dst_xls_filename' is not defined\n",
      "Failed to check missing media files: name 'dst_xls_filename' is not defined\n",
      "Failed to check missing media files: name 'dst_xls_filename' is not defined\n",
      "Failed to check missing media files: name 'dst_xls_filename' is not defined\n",
      "Failed to check missing media files: name 'dst_xls_filename' is not defined\n",
      "Failed to check missing media files: name 'dst_xls_filename' is not defined\n",
      "Failed to check missing media files: name 'dst_xls_filename' is not defined\n",
      "Failed to check missing media files: name 'dst_xls_filename' is not defined\n",
      "Failed to check missing media files: name 'dst_xls_filename' is not defined\n",
      "Failed to check missing media files: name 'dst_xls_filename' is not defined\n",
      "Failed to check missing media files: name 'dst_xls_filename' is not defined\n",
      "Failed to check missing media files: name 'dst_xls_filename' is not defined\n",
      "Failed to check missing media files: name 'dst_xls_filename' is not defined\n",
      "Failed to check missing media files: name 'dst_xls_filename' is not defined\n",
      "Failed to check missing media files: name 'dst_xls_filename' is not defined\n"
     ]
    }
   ],
   "source": [
    "base = datetime.datetime.today()\n",
    "date_list = [(base + datetime.timedelta(days=x)) for x in range(5)]\n",
    "\n",
    "media_files=[]\n",
    "try:\n",
    "    for root, dirnames, filenames in os.walk(Config.MEDIA_FOLDER):\n",
    "        for filename in fnmatch.filter(filenames, \"*.mxf\"):\n",
    "            media_files.append(os.path.join(root, filename))\n",
    "    print(\"Found {} mxf files in {}\".format(len(media_files),Config.MEDIA_FOLDER))\n",
    "except Exception as e:\n",
    "    print('Failed to build file list on SAN drive: '+ str(e))\n",
    "    raise e\n",
    "    \n",
    "cached_files=[]\n",
    "try:\n",
    "    for root, dirnames, filenames in os.walk(Config.CACHE_FOLDER):\n",
    "        for filename in fnmatch.filter(filenames, \"*.mxf\"):\n",
    "            cached_files.append(os.path.join(root, filename))\n",
    "    print(\"Found {} mxf files in {}\".format(len(cached_files),Config.CACHE_FOLDER))\n",
    "except Exception as e:\n",
    "    print('Failed to build file list on CACHE folder: '+ str(e))\n",
    "    raise e\n",
    "\n",
    "missing=set()\n",
    "\n",
    "for lf in Config.LOCALIZED_FEEDS:\n",
    "    for d in date_list:\n",
    "        src_xls_filename=os.path.join(lf[\"xls\"],d.strftime(\"%Y\"),'Sent',d.strftime(\"%m\")+\"_\"+d.strftime('%B'),d.strftime(\"%Y-%m-%d\")+\"_\"+lf[\"log\"]+\".xls\")\n",
    "        if os.path.isfile(src_xls_filename):\n",
    "            try:\n",
    "                df=pandas.read_excel(src_xls_filename)\n",
    "                for c in df[\"Cart Number\"].unique():\n",
    "                    found_cart=False\n",
    "                    for m in cached_files:\n",
    "                        if c in m:\n",
    "                            # print(\"{} found in {}\".format(c,m))\n",
    "                            found_cart=True\n",
    "                            break\n",
    "                    if not found_cart:\n",
    "                        # print(\"Adding {} to missing list.\".format(c))\n",
    "                        missing.add(c)\n",
    "            except Exception as e:\n",
    "                print('Failed to check missing media files: '+ str(e))\n",
    "                continue\n",
    "             \n",
    "for m in missing:\n",
    "    for f in media_files:\n",
    "        if m in f:\n",
    "            print(\"Copy {} to {}\".format(f,os.path.join(Config.CACHE_FOLDER,m+\".mxf\")))\n",
    "            copyfile(f,os.path.join(Config.CACHE_FOLDER,m+\".mxf\"))\n",
    "            break\n",
    "\n",
    "                     "
   ]
  },
  {
   "cell_type": "code",
   "execution_count": null,
   "metadata": {},
   "outputs": [],
   "source": []
  }
 ],
 "metadata": {
  "kernelspec": {
   "display_name": "Python 3",
   "language": "python",
   "name": "python3"
  },
  "language_info": {
   "codemirror_mode": {
    "name": "ipython",
    "version": 2
   },
   "file_extension": ".py",
   "mimetype": "text/x-python",
   "name": "python",
   "nbconvert_exporter": "python",
   "pygments_lexer": "ipython2",
   "version": "2.7.16"
  }
 },
 "nbformat": 4,
 "nbformat_minor": 2
}
