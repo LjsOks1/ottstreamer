{
 "cells": [
  {
   "cell_type": "code",
   "execution_count": 5,
   "metadata": {},
   "outputs": [],
   "source": [
    "from config import Config\n",
    "import pandas\n",
    "import os\n",
    "\n",
    "channel=\"nickjr_rom\"\n",
    "txdate=\"2019-10-06\"\n"
   ]
  },
  {
   "cell_type": "code",
   "execution_count": 6,
   "metadata": {},
   "outputs": [],
   "source": [
    "def get_commercial_log(channel,txdate):\n",
    "    breaks=[]\n",
    "    local_feed=[lf for lf in Config.LOCALIZED_FEEDS if lf[\"dir\"]==channel][0]\n",
    "    xls_filename=os.path.join(Config.STREAMS_ROOT,local_feed[\"dir\"],\"commercials\",\"playlists\",\n",
    "                          txdate,txdate+\"_\"+local_feed[\"log\"]+\".xls\")\n",
    "    df=pandas.read_excel(xls_filename)\n",
    "    for b in df[\"Break Number\"].unique():\n",
    "        com_break={}\n",
    "        com_break[\"id\"]=b\n",
    "        com_break[\"starttime\"]=df[df[\"Break Number\"] == b].iloc[0][\"Start Time\"][0:-3]\n",
    "        com_break[\"duration\"]='{:02d}:{:02d}'.format(int(df[df[\"Break Number\"] == b][\"Duartion WORK\"].sum()/60),\n",
    "                                             df[df[\"Break Number\"] == b][\"Duartion WORK\"].sum()%60)\n",
    "        if os.path.isfile(os.path.join(Config.STREAMS_ROOT,local_feed[\"dir\"],\"commercials\",\"playlists\",\n",
    "                                           txdate,'brk_{:02d}'.format(b),\"playlist.m3u8\")):\n",
    "            com_break[\"manifest\"]=os.path.join(Config.BASE_URI,local_feed[\"dir\"],\"commercials\",\"playlists\",\n",
    "                                           txdate,'brk_{:02d}'.format(b),\"playlist.m3u8\")\n",
    "            com_break[\"segments\"]=[]\n",
    "            for segment in m3u8.load(com_break[\"manifest\"]).segments:\n",
    "                com_break[\"segments\"].append(segment.uri)\n",
    "        breaks.append(com_break)\n",
    "    return breaks"
   ]
  },
  {
   "cell_type": "code",
   "execution_count": 7,
   "metadata": {},
   "outputs": [],
   "source": [
    "breaks=get_commercial_log(channel,txdate)"
   ]
  },
  {
   "cell_type": "code",
   "execution_count": null,
   "metadata": {},
   "outputs": [],
   "source": []
  },
  {
   "cell_type": "code",
   "execution_count": null,
   "metadata": {},
   "outputs": [],
   "source": []
  },
  {
   "cell_type": "raw",
   "metadata": {},
   "source": []
  }
 ],
 "metadata": {
  "kernelspec": {
   "display_name": "ottstreamer",
   "language": "python",
   "name": "ottstreamer"
  },
  "language_info": {
   "codemirror_mode": {
    "name": "ipython",
    "version": 3
   },
   "file_extension": ".py",
   "mimetype": "text/x-python",
   "name": "python",
   "nbconvert_exporter": "python",
   "pygments_lexer": "ipython3",
   "version": "3.7.3"
  }
 },
 "nbformat": 4,
 "nbformat_minor": 2
}
