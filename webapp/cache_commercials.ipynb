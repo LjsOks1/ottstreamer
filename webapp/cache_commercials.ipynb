{
 "cells": [
  {
   "cell_type": "code",
   "execution_count": 4,
   "metadata": {},
   "outputs": [],
   "source": [
    "import datetime\n",
    "import os\n",
    "from stat import *\n",
    "from shutil import copyfile\n",
    "from config import Config\n",
    "import pandas\n",
    "import xlrd\n",
    "import fnmatch"
   ]
  },
  {
   "cell_type": "code",
   "execution_count": 5,
   "metadata": {},
   "outputs": [
    {
     "name": "stdout",
     "output_type": "stream",
     "text": [
      "Found 16343 mxf files in /mnt/operations/Operations/\n",
      "Found 512 mxf files in /ddrive/commercials\n",
      "Searching in /mnt/fs_operations/04 Nickelodeon/Nickelodeon Hungary/Schedule/2019/Sent/09_September/2019-09-24_nickelodeon_HUN.xls\n",
      "Searching in /mnt/fs_operations/04 Nickelodeon/Nickelodeon Hungary/Schedule/2019/Sent/09_September/2019-09-25_nickelodeon_HUN.xls\n",
      "Searching in /mnt/fs_operations/04 Nickelodeon/Nickelodeon Romania/2019/Sent/09_September/2019-09-24_nickelodeonro.xls\n",
      "Searching in /mnt/fs_operations/04 Nickelodeon/Nickelodeon Romania/2019/Sent/09_September/2019-09-25_nickelodeonro.xls\n",
      "Searching in /mnt/fs_operations/04 Nickelodeon/Nickelodeon Czech/2019/Sent/09_September/2019-09-24_nickelodeoncze.xls\n",
      "Searching in /mnt/fs_operations/04 Nickelodeon/Nickelodeon Czech/2019/Sent/09_September/2019-09-25_nickelodeoncze.xls\n",
      "Searching in /mnt/fs_operations/04 Nickelodeon/Nickelodeon Bulgaria/2019/Sent/09_September/2019-09-24_nickelodeon_BUL.xls\n",
      "Searching in /mnt/fs_operations/04 Nickelodeon/Nickelodeon Bulgaria/2019/Sent/09_September/2019-09-25_nickelodeon_BUL.xls\n",
      "Searching in /mnt/fs_operations/04 Nickelodeon/Nickelodeon Bulgaria/2019/Sent/09_September/2019-09-26_nickelodeon_BUL.xls\n",
      "Searching in /mnt/fs_operations/10 Nick Jr/Nick Jr HUN/2019/Sent/09_September/2019-09-24_nickjrhu.xls\n",
      "Searching in /mnt/fs_operations/10 Nick Jr/Nick Jr HUN/2019/Sent/09_September/2019-09-25_nickjrhu.xls\n",
      "Searching in /mnt/fs_operations/10 Nick Jr/Nick Jr RO/2019/Sent/09_September/2019-09-24_nickjrro.xls\n",
      "Searching in /mnt/fs_operations/10 Nick Jr/Nick Jr RO/2019/Sent/09_September/2019-09-25_nickjrro.xls\n",
      "Searching in /mnt/fs_operations/10 Nick Jr/Nick Jr CZ/2019/Sent/09_September/2019-09-24_nickjrcz.xls\n",
      "Searching in /mnt/fs_operations/10 Nick Jr/Nick Jr CZ/2019/Sent/09_September/2019-09-25_nickjrcz.xls\n",
      "Searching in /mnt/fs_operations/10 Nick Jr/Nick Jr BUL/2019/Sent/09_September/2019-09-24_nickjrbul.xls\n",
      "Searching in /mnt/fs_operations/10 Nick Jr/Nick Jr BUL/2019/Sent/09_September/2019-09-25_nickjrbul.xls\n",
      "Searching in /mnt/fs_operations/10 Nick Jr/Nick Jr BUL/2019/Sent/09_September/2019-09-26_nickjrbul.xls\n",
      "Searching in /mnt/fs_operations/12_Nicktoons/Nicktoons HU Schedule/2019/Sent/09_September/2019-09-24_Nicktoons_Hungary.xls\n",
      "Searching in /mnt/fs_operations/12_Nicktoons/Nicktoons HU Schedule/2019/Sent/09_September/2019-09-25_Nicktoons_Hungary.xls\n",
      "Searching in /mnt/fs_operations/12_Nicktoons/Nicktoons RO_ Schedule/Schedule/2019/Sent/09_September/2019-09-24_nicktoonsro.xls\n",
      "Searching in /mnt/fs_operations/12_Nicktoons/Nicktoons RO_ Schedule/Schedule/2019/Sent/09_September/2019-09-25_nicktoonsro.xls\n",
      "Searching in /mnt/fs_operations/12_Nicktoons/Nicktoons RO_ Schedule/Schedule/2019/Sent/09_September/2019-09-26_nicktoonsro.xls\n",
      "Searching in /mnt/fs_operations/12_Nicktoons/Nicktoons BG Schedule/2019/Sent/09_September/2019-09-24_Nicktoons_Bulgaria.xls\n",
      "Searching in /mnt/fs_operations/12_Nicktoons/Nicktoons BG Schedule/2019/Sent/09_September/2019-09-25_Nicktoons_Bulgaria.xls\n",
      "Searching in /mnt/fs_operations/12_Nicktoons/Nicktoons BG Schedule/2019/Sent/09_September/2019-09-26_Nicktoons_Bulgaria.xls\n",
      "Searching in /mnt/fs_operations/12_Nicktoons/Nicktoons BG Schedule/2019/Sent/09_September/2019-09-27_Nicktoons_Bulgaria.xls\n",
      "Searching in /mnt/fs_operations/12_Nicktoons/Nicktoons BG Schedule/2019/Sent/09_September/2019-09-28_Nicktoons_Bulgaria.xls\n"
     ]
    }
   ],
   "source": [
    "base = datetime.datetime.today()\n",
    "date_list = [(base + datetime.timedelta(days=x)) for x in range(5)]\n",
    "\n",
    "media_files=[]\n",
    "try:\n",
    "    for root, dirnames, filenames in os.walk(Config.MEDIA_FOLDER):\n",
    "        for filename in fnmatch.filter(filenames, \"*.mxf\"):\n",
    "            media_files.append(os.path.join(root, filename))\n",
    "    print(\"Found {} mxf files in {}\".format(len(media_files),Config.MEDIA_FOLDER))\n",
    "except Exception as e:\n",
    "    print('Failed to build file list on SAN drive: '+ str(e))\n",
    "    raise e\n",
    "    \n",
    "cached_files=[]\n",
    "try:\n",
    "    for root, dirnames, filenames in os.walk(Config.CACHE_FOLDER):\n",
    "        for filename in fnmatch.filter(filenames, \"*.mxf\"):\n",
    "            cached_files.append(os.path.join(root, filename))\n",
    "    print(\"Found {} mxf files in {}\".format(len(cached_files),Config.CACHE_FOLDER))\n",
    "except Exception as e:\n",
    "    print('Failed to build file list on CACHE folder: '+ str(e))\n",
    "    raise e\n",
    "\n",
    "missing=set()\n",
    "\n",
    "for lf in Config.LOCALIZED_FEEDS:\n",
    "    for d in date_list:\n",
    "        src_xls_filename=os.path.join(lf[\"xls\"],d.strftime(\"%Y\"),'Sent',d.strftime(\"%m\")+\"_\"+d.strftime('%B'),d.strftime(\"%Y-%m-%d\")+\"_\"+lf[\"log\"]+\".xls\")\n",
    "        if os.path.isfile(src_xls_filename):\n",
    "            try:\n",
    "                print(\"Searching in {}\".format(src_xls_filename))\n",
    "                df=pandas.read_excel(src_xls_filename)\n",
    "                for c in df[\"Cart Number\"].unique():\n",
    "                    found_cart=False\n",
    "                    for m in cached_files:\n",
    "                        if c in m.decode('utf-8'):\n",
    "                            # print(\"{} found in {}\".format(c,m))\n",
    "                            found_cart=True\n",
    "                            break\n",
    "                    if not found_cart:\n",
    "                        # print(\"Adding {} to missing list.\".format(c))\n",
    "                        missing.add(c)\n",
    "            except Exception as e:\n",
    "                print('Failed to check missing media files: '+ str(e))\n",
    "                continue\n",
    "             \n",
    "for m in missing:\n",
    "    for f in media_files:\n",
    "        if m in f.decode('utf-8'):\n",
    "            print(\"Copy {} to {}\".format(f,os.path.join(Config.CACHE_FOLDER,m+\".mxf\")))\n",
    "            copyfile(f,os.path.join(Config.CACHE_FOLDER,m+\".mxf\"))\n",
    "            break\n",
    "\n",
    "                     "
   ]
  },
  {
   "cell_type": "code",
   "execution_count": null,
   "metadata": {},
   "outputs": [],
   "source": []
  }
 ],
 "metadata": {
  "kernelspec": {
   "display_name": "Python 3",
   "language": "python",
   "name": "python3"
  },
  "language_info": {
   "codemirror_mode": {
    "name": "ipython",
    "version": 2
   },
   "file_extension": ".py",
   "mimetype": "text/x-python",
   "name": "python",
   "nbconvert_exporter": "python",
   "pygments_lexer": "ipython2",
   "version": "2.7.16"
  }
 },
 "nbformat": 4,
 "nbformat_minor": 2
}
